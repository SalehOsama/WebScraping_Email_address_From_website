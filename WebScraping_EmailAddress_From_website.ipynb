{
  "nbformat": 4,
  "nbformat_minor": 0,
  "metadata": {
    "colab": {
      "provenance": [],
      "authorship_tag": "ABX9TyP4aRVSvvZnOUPU6rvXCReI",
      "include_colab_link": true
    },
    "kernelspec": {
      "name": "python3",
      "display_name": "Python 3"
    },
    "language_info": {
      "name": "python"
    }
  },
  "cells": [
    {
      "cell_type": "markdown",
      "metadata": {
        "id": "view-in-github",
        "colab_type": "text"
      },
      "source": [
        "<a href=\"https://colab.research.google.com/github/SalehOsama/WebScraping_Email_address_From_website/blob/main/WebScraping_EmailAddress_From_website.ipynb\" target=\"_parent\"><img src=\"https://colab.research.google.com/assets/colab-badge.svg\" alt=\"Open In Colab\"/></a>"
      ]
    },
    {
      "cell_type": "markdown",
      "source": [
        "\n",
        "\n",
        "\n",
        "**Write a script to scrape all Email addresses from any website**    \n",
        "website : https://blog.oureducation.in/top-universities-in-india/\n"
      ],
      "metadata": {
        "id": "mgKWz-6b59hC"
      }
    },
    {
      "cell_type": "code",
      "execution_count": 6,
      "metadata": {
        "id": "F00Y5IH03d6U",
        "colab": {
          "base_uri": "https://localhost:8080/"
        },
        "outputId": "d3f7f46f-22cd-4855-e014-8cc8ec0bfd5f"
      },
      "outputs": [
        {
          "output_type": "stream",
          "name": "stdout",
          "text": [
            "['dean@aiims.ac.in', 'yusufkhan.ee@amu.ac.in', 'alagappa.international@gmail.com', 'admissions@amity.edu', 'campus@am.amrita.edu', 'audoa@andhrauniversity.info', 'vc@annauniv.edu', 'info@annamalaiuniversity.ac.in', 'webmaster@bhu.ac.in', 'registrar@bub.ernet.in', 'mbarish@civil.becs.ac.in', 'regr@buc.edu.in', 'info@csbdu.in', 'bput@bput.ac.in, students@bput.ac.in', 'psd@bits-pilani.ac.in', 'dsasmal@bitmesra.ac.in', 'registrar@ccsuniversity.ac.in', 'Instituteoffice@cmi.ac.in, admissions@cmi.ac.in', 'sudhir200211@rediffmail.com', 'mail@tnmgrmu.ac.in', 'registrar@gitam.edu, admin@gaitm.edu', 'deanct@gbpuat.ernet.in', 'registrar@gtu.ac.in', 'registrar@gujaratuniversity.ac.in', 'deputyregistrar@rediffmail.com', 'registrar_gju@rediffmail.com', 'jeeiitb@iitb.ac.in', 'director@admin.iitd.ac.in', 'jee@iitk.ac.in', 'gate@iitm.ac.in.', 'cws@iift.ac.in', 'contact@iiita.ac.in', 'regr@admin.iisc.ernet', 'ksd @ iist.ac.in , v_adimurthy @ iist.ac.in , ao@iist.ac.in', 'pro @ iitg.ernet.in', 'asregpgr @ dm.iitkgp.ernet.in', 'aracd@iitr.ernet.in', 'postmaster@isical.ac.in', 'rrk@igidr.ac.in', 'dbnaik@svnit.ac.in', 'controller_exams@admin.jdvu.ac.in', 'ssajid@jmi.ac.in', 'academic@jncasr.ac.in', 'chair_scmm@mail.jnu.ac.in', 'registrar@kannuruniversity.ac.in', 'ueigb_kud121@rediffmail.com', 'vckuk@kuk.ernet.in', 'mumtajbegum@gmail.com', 'vc@muhsnashik.com', 'vc@mgu.ac.in', 'reg.mahe@manipal.edu', 'info@manit.ac.in', 'eo@mnnit.ac.in', 'enquiry@nmims.edu', 'admissions@nid.edu', 'dracd@nitc.ac.in', 'rnath @ nitk.ac.in', 'ar-acad@nitrkl.ac.in, director@nitrkl.ac.in', 'deanac@nitt.edu', 'director@nitw.ernet.in', 'registrar@nls.ac.in', 'director@nsit.ac.in', 'registrar@osmania.ac.in', 'vc@pu.ac.in', 'director@pec.ac.in', 'studentcentre@ptu.ac.in', 'vcofficertu@yahoo.co.in', 'vc@rguhs.ac.in', 'dbnaik@svnit.ac.in', 'admissions@sastra.edu', 'registrar@unishivaji.ac.in', 'vcsvu@yahoo.com, registrarsvu@yahoo.com', 'director.admissions@srmuniv.ac.in', 'ugadmissions@tnau.ac.in, deanagri@tnau.ac.in', 'gsoffice@tifr.res.in', 'psecsrinfo@tiss.edu', 'vc@msubaroda.ac.in, registrar@msubaroda.ac.in', 'admin@universityofallahabad.org', 'admin@caluniv.ac.in', 'jce1@universityofcalicut.info', 'director@ducc.du.ac.in', 'asrsl@uohyd.ernet.in', 'coordinator_placement@jammubusinessschool.in', 'info@kashmiruniversity.net', 'ku.release@gmail.com', 'registrar@lkouniv.ac.in', 'vcoffice@unom.ac.in', 'directorcces@gmail.com', 'registrar@uni-mysore.ac.in', 'puvc@unipune.ac.in', 'info@uniraj.ernet.in', 'vc@uptu.ac.in', 'registrar@vtu.ac.in', 'ugadmission@vit.ac.in', 'partha@digitekindia.co.in']\n"
          ]
        }
      ],
      "source": [
        "import pandas as pd\n",
        "import requests\n",
        "from bs4 import BeautifulSoup\n",
        "\n",
        "URL = \"https://blog.oureducation.in/top-universities-in-india/\"\n",
        "\n",
        "page = requests.get(URL)       # getting content from url\n",
        "\n",
        "soup = BeautifulSoup(page.content, 'html.parser')\n",
        "\n",
        "results = soup.find('div', class_ = 'entry')\n",
        "\n",
        "table = results.find('table')\n",
        "\n",
        "resultant_content = table.find_all('td')\n",
        "#print(resultant_content)\n",
        "\n",
        "\n",
        "\n",
        "\n",
        "emails = []\n",
        "for line in resultant_content:\n",
        "    data = line.text\n",
        "    if '@' in data:\n",
        "        emails.append(data)\n",
        "print(emails)\n"
      ]
    },
    {
      "cell_type": "code",
      "source": [],
      "metadata": {
        "colab": {
          "base_uri": "https://localhost:8080/"
        },
        "id": "ELlI4tdE4g24",
        "outputId": "fa4f681d-11a8-40af-e7d5-93ae85ea663a"
      },
      "execution_count": 2,
      "outputs": [
        {
          "output_type": "stream",
          "name": "stdout",
          "text": [
            "['dean@aiims.ac.in', 'yusufkhan.ee@amu.ac.in', 'alagappa.international@gmail.com', 'admissions@amity.edu', 'campus@am.amrita.edu', 'audoa@andhrauniversity.info', 'vc@annauniv.edu', 'info@annamalaiuniversity.ac.in', 'webmaster@bhu.ac.in', 'registrar@bub.ernet.in', 'mbarish@civil.becs.ac.in', 'regr@buc.edu.in', 'info@csbdu.in', 'bput@bput.ac.in, students@bput.ac.in', 'psd@bits-pilani.ac.in', 'dsasmal@bitmesra.ac.in', 'registrar@ccsuniversity.ac.in', 'Instituteoffice@cmi.ac.in, admissions@cmi.ac.in', 'sudhir200211@rediffmail.com', 'mail@tnmgrmu.ac.in', 'registrar@gitam.edu, admin@gaitm.edu', 'deanct@gbpuat.ernet.in', 'registrar@gtu.ac.in', 'registrar@gujaratuniversity.ac.in', 'deputyregistrar@rediffmail.com', 'registrar_gju@rediffmail.com', 'jeeiitb@iitb.ac.in', 'director@admin.iitd.ac.in', 'jee@iitk.ac.in', 'gate@iitm.ac.in.', 'cws@iift.ac.in', 'contact@iiita.ac.in', 'regr@admin.iisc.ernet', 'ksd @ iist.ac.in , v_adimurthy @ iist.ac.in , ao@iist.ac.in', 'pro @ iitg.ernet.in', 'asregpgr @ dm.iitkgp.ernet.in', 'aracd@iitr.ernet.in', 'postmaster@isical.ac.in', 'rrk@igidr.ac.in', 'dbnaik@svnit.ac.in', 'controller_exams@admin.jdvu.ac.in', 'ssajid@jmi.ac.in', 'academic@jncasr.ac.in', 'chair_scmm@mail.jnu.ac.in', 'registrar@kannuruniversity.ac.in', 'ueigb_kud121@rediffmail.com', 'vckuk@kuk.ernet.in', 'mumtajbegum@gmail.com', 'vc@muhsnashik.com', 'vc@mgu.ac.in', 'reg.mahe@manipal.edu', 'info@manit.ac.in', 'eo@mnnit.ac.in', 'enquiry@nmims.edu', 'admissions@nid.edu', 'dracd@nitc.ac.in', 'rnath @ nitk.ac.in', 'ar-acad@nitrkl.ac.in, director@nitrkl.ac.in', 'deanac@nitt.edu', 'director@nitw.ernet.in', 'registrar@nls.ac.in', 'director@nsit.ac.in', 'registrar@osmania.ac.in', 'vc@pu.ac.in', 'director@pec.ac.in', 'studentcentre@ptu.ac.in', 'vcofficertu@yahoo.co.in', 'vc@rguhs.ac.in', 'dbnaik@svnit.ac.in', 'admissions@sastra.edu', 'registrar@unishivaji.ac.in', 'vcsvu@yahoo.com, registrarsvu@yahoo.com', 'director.admissions@srmuniv.ac.in', 'ugadmissions@tnau.ac.in, deanagri@tnau.ac.in', 'gsoffice@tifr.res.in', 'psecsrinfo@tiss.edu', 'vc@msubaroda.ac.in, registrar@msubaroda.ac.in', 'admin@universityofallahabad.org', 'admin@caluniv.ac.in', 'jce1@universityofcalicut.info', 'director@ducc.du.ac.in', 'asrsl@uohyd.ernet.in', 'coordinator_placement@jammubusinessschool.in', 'info@kashmiruniversity.net', 'ku.release@gmail.com', 'registrar@lkouniv.ac.in', 'vcoffice@unom.ac.in', 'directorcces@gmail.com', 'registrar@uni-mysore.ac.in', 'puvc@unipune.ac.in', 'info@uniraj.ernet.in', 'vc@uptu.ac.in', 'registrar@vtu.ac.in', 'ugadmission@vit.ac.in', 'partha@digitekindia.co.in']\n"
          ]
        }
      ]
    }
  ]
}